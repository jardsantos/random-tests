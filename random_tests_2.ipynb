{
 "cells": [
  {
   "cell_type": "code",
   "execution_count": 1,
   "metadata": {},
   "outputs": [],
   "source": [
    "import pandas as pd\n",
    "import numpy as np\n",
    "import matplotlib.pyplot as plt\n",
    "import random"
   ]
  },
  {
   "cell_type": "code",
   "execution_count": 2,
   "metadata": {},
   "outputs": [],
   "source": [
    "dtypes = {\n",
    "    #'MachineIdentifier':                                    'category',\n",
    "    'ProductName':                                          'category',\n",
    "    'EngineVersion':                                        'category',\n",
    "    'AppVersion':                                           'category',\n",
    "    'AvSigVersion':                                         'category',\n",
    "    'IsBeta':                                               'int8',\n",
    "    'RtpStateBitfield':                                     'float16',\n",
    "    'IsSxsPassiveMode':                                     'int8',\n",
    "    'DefaultBrowsersIdentifier':                            'float16',\n",
    "    'AVProductStatesIdentifier':                            'float32',\n",
    "    'AVProductsInstalled':                                  'float16',\n",
    "    'AVProductsEnabled':                                    'float16',\n",
    "    'HasTpm':                                               'int8',\n",
    "    'CountryIdentifier':                                    'int32',\n",
    "    'CityIdentifier':                                       'float32',\n",
    "    'OrganizationIdentifier':                               'float16',\n",
    "    'GeoNameIdentifier':                                    'float32',\n",
    "    'LocaleEnglishNameIdentifier':                          'int32',\n",
    "    'Platform':                                             'category',\n",
    "    'Processor':                                            'category',\n",
    "    'OsVer':                                                'category',\n",
    "    'OsBuild':                                              'int16',\n",
    "    'OsSuite':                                              'int16',\n",
    "    'OsPlatformSubRelease':                                 'category',\n",
    "    'OsBuildLab':                                           'category',\n",
    "    'SkuEdition':                                           'category',\n",
    "    'IsProtected':                                          'float16',\n",
    "    'AutoSampleOptIn':                                      'int8',\n",
    "    'PuaMode':                                              'category',\n",
    "    'SMode':                                                'float16',\n",
    "    'IeVerIdentifier':                                      'float32',\n",
    "    'SmartScreen':                                          'category',\n",
    "    'Firewall':                                             'float16',\n",
    "    'UacLuaenable':                                         'float64',\n",
    "    'Census_MDC2FormFactor':                                'category',\n",
    "    'Census_DeviceFamily':                                  'category',\n",
    "    'Census_OEMNameIdentifier':                             'float32',\n",
    "    'Census_OEMModelIdentifier':                            'float32',\n",
    "    'Census_ProcessorCoreCount':                            'float16',\n",
    "    'Census_ProcessorManufacturerIdentifier':               'float16',\n",
    "    'Census_ProcessorModelIdentifier':                      'float32',\n",
    "    'Census_ProcessorClass':                                'category',\n",
    "    'Census_PrimaryDiskTotalCapacity':                      'float32',\n",
    "    'Census_PrimaryDiskTypeName':                           'category',\n",
    "    'Census_SystemVolumeTotalCapacity':                     'float32',\n",
    "    'Census_HasOpticalDiskDrive':                           'int8',\n",
    "    'Census_TotalPhysicalRAM':                              'float32',\n",
    "    'Census_ChassisTypeName':                               'category',\n",
    "    'Census_InternalPrimaryDiagonalDisplaySizeInInches':    'float32',\n",
    "    'Census_InternalPrimaryDisplayResolutionHorizontal':    'float32',\n",
    "    'Census_InternalPrimaryDisplayResolutionVertical':      'float32',\n",
    "    'Census_PowerPlatformRoleName':                         'category',\n",
    "    'Census_InternalBatteryType':                           'category',\n",
    "    'Census_InternalBatteryNumberOfCharges':                'float32',\n",
    "    'Census_OSVersion':                                     'category',\n",
    "    'Census_OSArchitecture':                                'category',\n",
    "    'Census_OSBranch':                                      'category',\n",
    "    'Census_OSBuildNumber':                                 'int32',\n",
    "    'Census_OSBuildRevision':                               'int32',\n",
    "    'Census_OSEdition':                                     'category',\n",
    "    'Census_OSSkuName':                                     'category',\n",
    "    'Census_OSInstallTypeName':                             'category',\n",
    "    'Census_OSInstallLanguageIdentifier':                   'float16',\n",
    "    'Census_OSUILocaleIdentifier':                          'int32',\n",
    "    'Census_OSWUAutoUpdateOptionsName':                     'category',\n",
    "    'Census_IsPortableOperatingSystem':                     'int8',\n",
    "    'Census_GenuineStateName':                              'category',\n",
    "    'Census_ActivationChannel':                             'category',\n",
    "    'Census_IsFlightingInternal':                           'float16',\n",
    "    'Census_IsFlightsDisabled':                             'float16',\n",
    "    'Census_FlightRing':                                    'category',\n",
    "    'Census_ThresholdOptIn':                                'float16',\n",
    "    'Census_FirmwareManufacturerIdentifier':                'float32',\n",
    "    'Census_FirmwareVersionIdentifier':                     'float32',\n",
    "    'Census_IsSecureBootEnabled':                           'int8',\n",
    "    'Census_IsWIMBootEnabled':                              'float16',\n",
    "    'Census_IsVirtualDevice':                               'float16',\n",
    "    'Census_IsTouchEnabled':                                'int8',\n",
    "    'Census_IsPenCapable':                                  'int8',\n",
    "    'Census_IsAlwaysOnAlwaysConnectedCapable':              'float16',\n",
    "    'Wdft_IsGamer':                                         'float16',\n",
    "    'Wdft_RegionIdentifier':                                'float32',\n",
    "    'HasDetections':                                        'int8'\n",
    "}"
   ]
  },
  {
   "cell_type": "code",
   "execution_count": 3,
   "metadata": {},
   "outputs": [],
   "source": [
    "train = pd.read_csv('train.csv', dtype=dtypes)"
   ]
  },
  {
   "cell_type": "code",
   "execution_count": 4,
   "metadata": {},
   "outputs": [
    {
     "data": {
      "text/html": [
       "<div>\n",
       "<style scoped>\n",
       "    .dataframe tbody tr th:only-of-type {\n",
       "        vertical-align: middle;\n",
       "    }\n",
       "\n",
       "    .dataframe tbody tr th {\n",
       "        vertical-align: top;\n",
       "    }\n",
       "\n",
       "    .dataframe thead th {\n",
       "        text-align: right;\n",
       "    }\n",
       "</style>\n",
       "<table border=\"1\" class=\"dataframe\">\n",
       "  <thead>\n",
       "    <tr style=\"text-align: right;\">\n",
       "      <th></th>\n",
       "      <th>MachineIdentifier</th>\n",
       "      <th>ProductName</th>\n",
       "      <th>EngineVersion</th>\n",
       "      <th>AppVersion</th>\n",
       "      <th>AvSigVersion</th>\n",
       "      <th>IsBeta</th>\n",
       "      <th>RtpStateBitfield</th>\n",
       "      <th>IsSxsPassiveMode</th>\n",
       "      <th>DefaultBrowsersIdentifier</th>\n",
       "      <th>AVProductStatesIdentifier</th>\n",
       "      <th>...</th>\n",
       "      <th>Census_FirmwareVersionIdentifier</th>\n",
       "      <th>Census_IsSecureBootEnabled</th>\n",
       "      <th>Census_IsWIMBootEnabled</th>\n",
       "      <th>Census_IsVirtualDevice</th>\n",
       "      <th>Census_IsTouchEnabled</th>\n",
       "      <th>Census_IsPenCapable</th>\n",
       "      <th>Census_IsAlwaysOnAlwaysConnectedCapable</th>\n",
       "      <th>Wdft_IsGamer</th>\n",
       "      <th>Wdft_RegionIdentifier</th>\n",
       "      <th>HasDetections</th>\n",
       "    </tr>\n",
       "  </thead>\n",
       "  <tbody>\n",
       "    <tr>\n",
       "      <th>0</th>\n",
       "      <td>0000028988387b115f69f31a3bf04f09</td>\n",
       "      <td>win8defender</td>\n",
       "      <td>1.1.15100.1</td>\n",
       "      <td>4.18.1807.18075</td>\n",
       "      <td>1.273.1735.0</td>\n",
       "      <td>0</td>\n",
       "      <td>7.0</td>\n",
       "      <td>0</td>\n",
       "      <td>NaN</td>\n",
       "      <td>53447.0</td>\n",
       "      <td>...</td>\n",
       "      <td>36144.0</td>\n",
       "      <td>0</td>\n",
       "      <td>NaN</td>\n",
       "      <td>0.0</td>\n",
       "      <td>0</td>\n",
       "      <td>0</td>\n",
       "      <td>0.0</td>\n",
       "      <td>0.0</td>\n",
       "      <td>10.0</td>\n",
       "      <td>0</td>\n",
       "    </tr>\n",
       "    <tr>\n",
       "      <th>1</th>\n",
       "      <td>000007535c3f730efa9ea0b7ef1bd645</td>\n",
       "      <td>win8defender</td>\n",
       "      <td>1.1.14600.4</td>\n",
       "      <td>4.13.17134.1</td>\n",
       "      <td>1.263.48.0</td>\n",
       "      <td>0</td>\n",
       "      <td>7.0</td>\n",
       "      <td>0</td>\n",
       "      <td>NaN</td>\n",
       "      <td>53447.0</td>\n",
       "      <td>...</td>\n",
       "      <td>57858.0</td>\n",
       "      <td>0</td>\n",
       "      <td>NaN</td>\n",
       "      <td>0.0</td>\n",
       "      <td>0</td>\n",
       "      <td>0</td>\n",
       "      <td>0.0</td>\n",
       "      <td>0.0</td>\n",
       "      <td>8.0</td>\n",
       "      <td>0</td>\n",
       "    </tr>\n",
       "    <tr>\n",
       "      <th>2</th>\n",
       "      <td>000007905a28d863f6d0d597892cd692</td>\n",
       "      <td>win8defender</td>\n",
       "      <td>1.1.15100.1</td>\n",
       "      <td>4.18.1807.18075</td>\n",
       "      <td>1.273.1341.0</td>\n",
       "      <td>0</td>\n",
       "      <td>7.0</td>\n",
       "      <td>0</td>\n",
       "      <td>NaN</td>\n",
       "      <td>53447.0</td>\n",
       "      <td>...</td>\n",
       "      <td>52682.0</td>\n",
       "      <td>0</td>\n",
       "      <td>NaN</td>\n",
       "      <td>0.0</td>\n",
       "      <td>0</td>\n",
       "      <td>0</td>\n",
       "      <td>0.0</td>\n",
       "      <td>0.0</td>\n",
       "      <td>3.0</td>\n",
       "      <td>0</td>\n",
       "    </tr>\n",
       "    <tr>\n",
       "      <th>3</th>\n",
       "      <td>00000b11598a75ea8ba1beea8459149f</td>\n",
       "      <td>win8defender</td>\n",
       "      <td>1.1.15100.1</td>\n",
       "      <td>4.18.1807.18075</td>\n",
       "      <td>1.273.1527.0</td>\n",
       "      <td>0</td>\n",
       "      <td>7.0</td>\n",
       "      <td>0</td>\n",
       "      <td>NaN</td>\n",
       "      <td>53447.0</td>\n",
       "      <td>...</td>\n",
       "      <td>20050.0</td>\n",
       "      <td>0</td>\n",
       "      <td>NaN</td>\n",
       "      <td>0.0</td>\n",
       "      <td>0</td>\n",
       "      <td>0</td>\n",
       "      <td>0.0</td>\n",
       "      <td>0.0</td>\n",
       "      <td>3.0</td>\n",
       "      <td>1</td>\n",
       "    </tr>\n",
       "    <tr>\n",
       "      <th>4</th>\n",
       "      <td>000014a5f00daa18e76b81417eeb99fc</td>\n",
       "      <td>win8defender</td>\n",
       "      <td>1.1.15100.1</td>\n",
       "      <td>4.18.1807.18075</td>\n",
       "      <td>1.273.1379.0</td>\n",
       "      <td>0</td>\n",
       "      <td>7.0</td>\n",
       "      <td>0</td>\n",
       "      <td>NaN</td>\n",
       "      <td>53447.0</td>\n",
       "      <td>...</td>\n",
       "      <td>19844.0</td>\n",
       "      <td>0</td>\n",
       "      <td>0.0</td>\n",
       "      <td>0.0</td>\n",
       "      <td>0</td>\n",
       "      <td>0</td>\n",
       "      <td>0.0</td>\n",
       "      <td>0.0</td>\n",
       "      <td>1.0</td>\n",
       "      <td>1</td>\n",
       "    </tr>\n",
       "  </tbody>\n",
       "</table>\n",
       "<p>5 rows × 83 columns</p>\n",
       "</div>"
      ],
      "text/plain": [
       "                  MachineIdentifier   ProductName EngineVersion  \\\n",
       "0  0000028988387b115f69f31a3bf04f09  win8defender   1.1.15100.1   \n",
       "1  000007535c3f730efa9ea0b7ef1bd645  win8defender   1.1.14600.4   \n",
       "2  000007905a28d863f6d0d597892cd692  win8defender   1.1.15100.1   \n",
       "3  00000b11598a75ea8ba1beea8459149f  win8defender   1.1.15100.1   \n",
       "4  000014a5f00daa18e76b81417eeb99fc  win8defender   1.1.15100.1   \n",
       "\n",
       "        AppVersion  AvSigVersion  IsBeta  RtpStateBitfield  IsSxsPassiveMode  \\\n",
       "0  4.18.1807.18075  1.273.1735.0       0               7.0                 0   \n",
       "1     4.13.17134.1    1.263.48.0       0               7.0                 0   \n",
       "2  4.18.1807.18075  1.273.1341.0       0               7.0                 0   \n",
       "3  4.18.1807.18075  1.273.1527.0       0               7.0                 0   \n",
       "4  4.18.1807.18075  1.273.1379.0       0               7.0                 0   \n",
       "\n",
       "   DefaultBrowsersIdentifier  AVProductStatesIdentifier      ...       \\\n",
       "0                        NaN                    53447.0      ...        \n",
       "1                        NaN                    53447.0      ...        \n",
       "2                        NaN                    53447.0      ...        \n",
       "3                        NaN                    53447.0      ...        \n",
       "4                        NaN                    53447.0      ...        \n",
       "\n",
       "   Census_FirmwareVersionIdentifier  Census_IsSecureBootEnabled  \\\n",
       "0                           36144.0                           0   \n",
       "1                           57858.0                           0   \n",
       "2                           52682.0                           0   \n",
       "3                           20050.0                           0   \n",
       "4                           19844.0                           0   \n",
       "\n",
       "   Census_IsWIMBootEnabled  Census_IsVirtualDevice  Census_IsTouchEnabled  \\\n",
       "0                      NaN                     0.0                      0   \n",
       "1                      NaN                     0.0                      0   \n",
       "2                      NaN                     0.0                      0   \n",
       "3                      NaN                     0.0                      0   \n",
       "4                      0.0                     0.0                      0   \n",
       "\n",
       "   Census_IsPenCapable  Census_IsAlwaysOnAlwaysConnectedCapable  Wdft_IsGamer  \\\n",
       "0                    0                                      0.0           0.0   \n",
       "1                    0                                      0.0           0.0   \n",
       "2                    0                                      0.0           0.0   \n",
       "3                    0                                      0.0           0.0   \n",
       "4                    0                                      0.0           0.0   \n",
       "\n",
       "  Wdft_RegionIdentifier HasDetections  \n",
       "0                  10.0             0  \n",
       "1                   8.0             0  \n",
       "2                   3.0             0  \n",
       "3                   3.0             1  \n",
       "4                   1.0             1  \n",
       "\n",
       "[5 rows x 83 columns]"
      ]
     },
     "execution_count": 4,
     "metadata": {},
     "output_type": "execute_result"
    }
   ],
   "source": [
    "train.head()"
   ]
  },
  {
   "cell_type": "code",
   "execution_count": 5,
   "metadata": {},
   "outputs": [],
   "source": [
    "def reduce_mem_usage(df):\n",
    "    \"\"\" iterate through all the columns of a dataframe and modify the data type\n",
    "        to reduce memory usage.        \n",
    "    \"\"\"\n",
    "    start_mem = df.memory_usage().sum() / 1024**2\n",
    "    print('Memory usage of dataframe is {:.2f} MB'.format(start_mem))\n",
    "    \n",
    "    for col in df.columns:\n",
    "        col_type = df[col].dtype\n",
    "        if (col_type != object) & (str(col_type) != 'category'):\n",
    "            c_min = df[col].min()\n",
    "            c_max = df[col].max()\n",
    "            if str(col_type)[:3] == 'int':\n",
    "                if c_min > np.iinfo(np.int8).min and c_max < np.iinfo(np.int8).max:\n",
    "                    df[col] = df[col].astype(np.int8)\n",
    "                elif c_min > np.iinfo(np.int16).min and c_max < np.iinfo(np.int16).max:\n",
    "                    df[col] = df[col].astype(np.int16)\n",
    "                elif c_min > np.iinfo(np.int32).min and c_max < np.iinfo(np.int32).max:\n",
    "                    df[col] = df[col].astype(np.int32)\n",
    "                elif c_min > np.iinfo(np.int64).min and c_max < np.iinfo(np.int64).max:\n",
    "                    df[col] = df[col].astype(np.int64)  \n",
    "            else:\n",
    "                if c_min > np.finfo(np.float16).min and c_max < np.finfo(np.float16).max:\n",
    "                    df[col] = df[col].astype(np.float16)\n",
    "                elif c_min > np.finfo(np.float32).min and c_max < np.finfo(np.float32).max:\n",
    "                    df[col] = df[col].astype(np.float32)\n",
    "                else:\n",
    "                    df[col] = df[col].astype(np.float64)\n",
    "        else:\n",
    "            df[col] = df[col].astype('category')\n",
    "\n",
    "    end_mem = df.memory_usage().sum() / 1024**2\n",
    "    print('Memory usage after optimization is: {:.2f} MB'.format(end_mem))\n",
    "    print('Decreased by {:.1f}%'.format(100 * (start_mem - end_mem) / start_mem))\n",
    "    \n",
    "    return df"
   ]
  },
  {
   "cell_type": "code",
   "execution_count": 6,
   "metadata": {},
   "outputs": [
    {
     "name": "stdout",
     "output_type": "stream",
     "text": [
      "Memory usage of dataframe is 1582.98 MB\n",
      "Memory usage after optimization is: 1681.76 MB\n",
      "Decreased by -6.2%\n"
     ]
    }
   ],
   "source": [
    "train = reduce_mem_usage(train)"
   ]
  },
  {
   "cell_type": "code",
   "execution_count": 7,
   "metadata": {},
   "outputs": [],
   "source": [
    "roll = 'EngineVersion'\n",
    "column = 'ProductName'\n",
    "label = 'HasDetections'"
   ]
  },
  {
   "cell_type": "code",
   "execution_count": 8,
   "metadata": {},
   "outputs": [],
   "source": [
    "def ratio_windows(df, roll, column, label, windows):\n",
    "    '''\n",
    "    Input:\n",
    "        df (pandas.DataFrame):  dataframe to realize window\n",
    "        roll (string):          string of column to roll the window\n",
    "        column (string):        string of column to partition the window\n",
    "        label (string):         string of label column, to calculate ratios\n",
    "        windows (list):         list of past windows to calculate ratios\n",
    "    ----------------------------------------------------------------------------------\n",
    "    Output:\n",
    "        windows_names (list):   name of the windows\n",
    "        windows_values(numpy.Array): vector of windows values\n",
    "    '''\n",
    "    \n",
    "    assert type(windows) == list, 'Windows must be list type'\n",
    "    \n",
    "    df_aux = df.groupby([roll, column]).agg({label: ['count', 'sum']})\n",
    "    df_aux.columns = df_aux.columns.droplevel()\n",
    "    df_aux = df_aux.reset_index().sort_values(roll, ascending=True)\n",
    "    \n",
    "    total = df_aux.groupby(roll).agg({'sum': 'sum'})\n",
    "    total.columns = ['total_one']\n",
    "    total = total.reset_index()\n",
    "    \n",
    "    df_aux = df_aux.merge(total, on=roll, how='left')\n",
    "    df_aux['ratio'] = df_aux['sum']/df_aux['count']\n",
    "    df_aux['ratio_one'] = df_aux['sum']/df_aux['total_one']\n",
    "    del total\n",
    "    \n",
    "    windows_names = []\n",
    "    for i, col in enumerate(np.unique(df_aux[column].values)):\n",
    "        aux = df_aux.loc[df_aux[column] == col].reset_index(drop=True)\n",
    "        for w in windows:\n",
    "            name_ = '%s_ratio_w_%d' % (column, w)\n",
    "            name__ = '%s_ratio_one_w_%d' % (column, w)\n",
    "            aux[name_] = aux.ratio.rolling(w+1, min_periods=1).sum() - aux.ratio.rolling(w, min_periods=1).sum()\n",
    "            aux[name__] = aux.ratio_one.rolling(w+1, min_periods=1).sum() - aux.ratio_one.rolling(w, min_periods=1).sum()\n",
    "            if(i == 0):\n",
    "                windows_names.append(name_)\n",
    "                windows_names.append(name__)\n",
    "        if(i == 0):\n",
    "            windows_df = aux\n",
    "        else:\n",
    "            windows_df = pd.concat([windows_df, aux])\n",
    "    return windows_names, df[[roll, column]].merge(windows_df, on=[roll, column], how='left')[windows_names].values"
   ]
  },
  {
   "cell_type": "code",
   "execution_count": 10,
   "metadata": {},
   "outputs": [
    {
     "name": "stdout",
     "output_type": "stream",
     "text": [
      "CPU times: user 5.29 s, sys: 4.28 s, total: 9.57 s\n",
      "Wall time: 10.2 s\n"
     ]
    }
   ],
   "source": [
    "%time windows_names, windows_values = ratio_windows(train, roll, column, label, windows=[5, 10, 15])"
   ]
  },
  {
   "cell_type": "code",
   "execution_count": 11,
   "metadata": {},
   "outputs": [],
   "source": [
    "train[windows_names] = pd.DataFrame(windows_values, index=train.index)"
   ]
  },
  {
   "cell_type": "code",
   "execution_count": 12,
   "metadata": {},
   "outputs": [
    {
     "data": {
      "text/html": [
       "<div>\n",
       "<style scoped>\n",
       "    .dataframe tbody tr th:only-of-type {\n",
       "        vertical-align: middle;\n",
       "    }\n",
       "\n",
       "    .dataframe tbody tr th {\n",
       "        vertical-align: top;\n",
       "    }\n",
       "\n",
       "    .dataframe thead th {\n",
       "        text-align: right;\n",
       "    }\n",
       "</style>\n",
       "<table border=\"1\" class=\"dataframe\">\n",
       "  <thead>\n",
       "    <tr style=\"text-align: right;\">\n",
       "      <th></th>\n",
       "      <th>MachineIdentifier</th>\n",
       "      <th>ProductName</th>\n",
       "      <th>EngineVersion</th>\n",
       "      <th>AppVersion</th>\n",
       "      <th>AvSigVersion</th>\n",
       "      <th>IsBeta</th>\n",
       "      <th>RtpStateBitfield</th>\n",
       "      <th>IsSxsPassiveMode</th>\n",
       "      <th>DefaultBrowsersIdentifier</th>\n",
       "      <th>AVProductStatesIdentifier</th>\n",
       "      <th>...</th>\n",
       "      <th>Census_IsAlwaysOnAlwaysConnectedCapable</th>\n",
       "      <th>Wdft_IsGamer</th>\n",
       "      <th>Wdft_RegionIdentifier</th>\n",
       "      <th>HasDetections</th>\n",
       "      <th>ProductName_ratio_w_5</th>\n",
       "      <th>ProductName_ratio_one_w_5</th>\n",
       "      <th>ProductName_ratio_w_10</th>\n",
       "      <th>ProductName_ratio_one_w_10</th>\n",
       "      <th>ProductName_ratio_w_15</th>\n",
       "      <th>ProductName_ratio_one_w_15</th>\n",
       "    </tr>\n",
       "  </thead>\n",
       "  <tbody>\n",
       "    <tr>\n",
       "      <th>0</th>\n",
       "      <td>0000028988387b115f69f31a3bf04f09</td>\n",
       "      <td>win8defender</td>\n",
       "      <td>1.1.15100.1</td>\n",
       "      <td>4.18.1807.18075</td>\n",
       "      <td>1.273.1735.0</td>\n",
       "      <td>0</td>\n",
       "      <td>7.0</td>\n",
       "      <td>0</td>\n",
       "      <td>NaN</td>\n",
       "      <td>53447.0</td>\n",
       "      <td>...</td>\n",
       "      <td>0.0</td>\n",
       "      <td>0.0</td>\n",
       "      <td>10.0</td>\n",
       "      <td>0</td>\n",
       "      <td>0.310567</td>\n",
       "      <td>0.992501</td>\n",
       "      <td>0.437666</td>\n",
       "      <td>0.998020</td>\n",
       "      <td>0.411903</td>\n",
       "      <td>0.994172</td>\n",
       "    </tr>\n",
       "    <tr>\n",
       "      <th>1</th>\n",
       "      <td>000007535c3f730efa9ea0b7ef1bd645</td>\n",
       "      <td>win8defender</td>\n",
       "      <td>1.1.14600.4</td>\n",
       "      <td>4.13.17134.1</td>\n",
       "      <td>1.263.48.0</td>\n",
       "      <td>0</td>\n",
       "      <td>7.0</td>\n",
       "      <td>0</td>\n",
       "      <td>NaN</td>\n",
       "      <td>53447.0</td>\n",
       "      <td>...</td>\n",
       "      <td>0.0</td>\n",
       "      <td>0.0</td>\n",
       "      <td>8.0</td>\n",
       "      <td>0</td>\n",
       "      <td>0.411903</td>\n",
       "      <td>0.994172</td>\n",
       "      <td>0.382500</td>\n",
       "      <td>0.993506</td>\n",
       "      <td>0.436106</td>\n",
       "      <td>0.999546</td>\n",
       "    </tr>\n",
       "    <tr>\n",
       "      <th>2</th>\n",
       "      <td>000007905a28d863f6d0d597892cd692</td>\n",
       "      <td>win8defender</td>\n",
       "      <td>1.1.15100.1</td>\n",
       "      <td>4.18.1807.18075</td>\n",
       "      <td>1.273.1341.0</td>\n",
       "      <td>0</td>\n",
       "      <td>7.0</td>\n",
       "      <td>0</td>\n",
       "      <td>NaN</td>\n",
       "      <td>53447.0</td>\n",
       "      <td>...</td>\n",
       "      <td>0.0</td>\n",
       "      <td>0.0</td>\n",
       "      <td>3.0</td>\n",
       "      <td>0</td>\n",
       "      <td>0.310567</td>\n",
       "      <td>0.992501</td>\n",
       "      <td>0.437666</td>\n",
       "      <td>0.998020</td>\n",
       "      <td>0.411903</td>\n",
       "      <td>0.994172</td>\n",
       "    </tr>\n",
       "    <tr>\n",
       "      <th>3</th>\n",
       "      <td>00000b11598a75ea8ba1beea8459149f</td>\n",
       "      <td>win8defender</td>\n",
       "      <td>1.1.15100.1</td>\n",
       "      <td>4.18.1807.18075</td>\n",
       "      <td>1.273.1527.0</td>\n",
       "      <td>0</td>\n",
       "      <td>7.0</td>\n",
       "      <td>0</td>\n",
       "      <td>NaN</td>\n",
       "      <td>53447.0</td>\n",
       "      <td>...</td>\n",
       "      <td>0.0</td>\n",
       "      <td>0.0</td>\n",
       "      <td>3.0</td>\n",
       "      <td>1</td>\n",
       "      <td>0.310567</td>\n",
       "      <td>0.992501</td>\n",
       "      <td>0.437666</td>\n",
       "      <td>0.998020</td>\n",
       "      <td>0.411903</td>\n",
       "      <td>0.994172</td>\n",
       "    </tr>\n",
       "    <tr>\n",
       "      <th>4</th>\n",
       "      <td>000014a5f00daa18e76b81417eeb99fc</td>\n",
       "      <td>win8defender</td>\n",
       "      <td>1.1.15100.1</td>\n",
       "      <td>4.18.1807.18075</td>\n",
       "      <td>1.273.1379.0</td>\n",
       "      <td>0</td>\n",
       "      <td>7.0</td>\n",
       "      <td>0</td>\n",
       "      <td>NaN</td>\n",
       "      <td>53447.0</td>\n",
       "      <td>...</td>\n",
       "      <td>0.0</td>\n",
       "      <td>0.0</td>\n",
       "      <td>1.0</td>\n",
       "      <td>1</td>\n",
       "      <td>0.310567</td>\n",
       "      <td>0.992501</td>\n",
       "      <td>0.437666</td>\n",
       "      <td>0.998020</td>\n",
       "      <td>0.411903</td>\n",
       "      <td>0.994172</td>\n",
       "    </tr>\n",
       "  </tbody>\n",
       "</table>\n",
       "<p>5 rows × 89 columns</p>\n",
       "</div>"
      ],
      "text/plain": [
       "                  MachineIdentifier   ProductName EngineVersion  \\\n",
       "0  0000028988387b115f69f31a3bf04f09  win8defender   1.1.15100.1   \n",
       "1  000007535c3f730efa9ea0b7ef1bd645  win8defender   1.1.14600.4   \n",
       "2  000007905a28d863f6d0d597892cd692  win8defender   1.1.15100.1   \n",
       "3  00000b11598a75ea8ba1beea8459149f  win8defender   1.1.15100.1   \n",
       "4  000014a5f00daa18e76b81417eeb99fc  win8defender   1.1.15100.1   \n",
       "\n",
       "        AppVersion  AvSigVersion  IsBeta  RtpStateBitfield  IsSxsPassiveMode  \\\n",
       "0  4.18.1807.18075  1.273.1735.0       0               7.0                 0   \n",
       "1     4.13.17134.1    1.263.48.0       0               7.0                 0   \n",
       "2  4.18.1807.18075  1.273.1341.0       0               7.0                 0   \n",
       "3  4.18.1807.18075  1.273.1527.0       0               7.0                 0   \n",
       "4  4.18.1807.18075  1.273.1379.0       0               7.0                 0   \n",
       "\n",
       "   DefaultBrowsersIdentifier  AVProductStatesIdentifier  \\\n",
       "0                        NaN                    53447.0   \n",
       "1                        NaN                    53447.0   \n",
       "2                        NaN                    53447.0   \n",
       "3                        NaN                    53447.0   \n",
       "4                        NaN                    53447.0   \n",
       "\n",
       "             ...              Census_IsAlwaysOnAlwaysConnectedCapable  \\\n",
       "0            ...                                                  0.0   \n",
       "1            ...                                                  0.0   \n",
       "2            ...                                                  0.0   \n",
       "3            ...                                                  0.0   \n",
       "4            ...                                                  0.0   \n",
       "\n",
       "   Wdft_IsGamer  Wdft_RegionIdentifier  HasDetections  ProductName_ratio_w_5  \\\n",
       "0           0.0                   10.0              0               0.310567   \n",
       "1           0.0                    8.0              0               0.411903   \n",
       "2           0.0                    3.0              0               0.310567   \n",
       "3           0.0                    3.0              1               0.310567   \n",
       "4           0.0                    1.0              1               0.310567   \n",
       "\n",
       "   ProductName_ratio_one_w_5  ProductName_ratio_w_10  \\\n",
       "0                   0.992501                0.437666   \n",
       "1                   0.994172                0.382500   \n",
       "2                   0.992501                0.437666   \n",
       "3                   0.992501                0.437666   \n",
       "4                   0.992501                0.437666   \n",
       "\n",
       "   ProductName_ratio_one_w_10 ProductName_ratio_w_15  \\\n",
       "0                    0.998020               0.411903   \n",
       "1                    0.993506               0.436106   \n",
       "2                    0.998020               0.411903   \n",
       "3                    0.998020               0.411903   \n",
       "4                    0.998020               0.411903   \n",
       "\n",
       "  ProductName_ratio_one_w_15  \n",
       "0                   0.994172  \n",
       "1                   0.999546  \n",
       "2                   0.994172  \n",
       "3                   0.994172  \n",
       "4                   0.994172  \n",
       "\n",
       "[5 rows x 89 columns]"
      ]
     },
     "execution_count": 12,
     "metadata": {},
     "output_type": "execute_result"
    }
   ],
   "source": [
    "train.head()"
   ]
  },
  {
   "cell_type": "code",
   "execution_count": null,
   "metadata": {},
   "outputs": [],
   "source": [
    "# def categoricals(df, cat1, cat2):\n",
    "#     aux = df.groupby(cat1)[cat2].apply(lambda x: ' '.join(list(x))).reset_index()\n",
    "#     vectorizer = CountVectorizer()\n",
    "#     vector = vectorizer.fit_transform(aux[cat2])\n",
    "#     if(vector.shape[0] > 5):\n",
    "#         vector = LatentDirichletAllocation(n_components=5).fit_transform(vector)\n",
    "#     else:\n",
    "#         vector = vector.toarray()\n",
    "#     names = ['%s_%s_%d' % (cat1, cat2, i) for i in range(vector.shape[1])]\n",
    "#     aux[names] = pd.DataFrame(vector, index=aux.index)\n",
    "    \n",
    "#     df = df[[cat1, cat2]].merge(aux, on=cat1, how='left')\n",
    "#     return names, df[names].values"
   ]
  },
  {
   "cell_type": "code",
   "execution_count": 14,
   "metadata": {},
   "outputs": [],
   "source": [
    "from sklearn.feature_extraction.text import CountVectorizer\n",
    "from sklearn.decomposition import LatentDirichletAllocation\n",
    "\n",
    "class CategoricalCombination():\n",
    "    def __init__(self, cat1, cat2, **kwargs):\n",
    "        try:\n",
    "            self.random_state = kwargs['random_state']\n",
    "        except:\n",
    "            self.random_state = None\n",
    "        self.cat1 = cat1\n",
    "        self.cat2 = cat2\n",
    "    def fit(self, df):\n",
    "        self.aux = df.groupby(self.cat1)[self.cat2].apply(lambda x: ' '.join(list(x))).reset_index()\n",
    "        vectorizer = CountVectorizer()\n",
    "        vector = vectorizer.fit_transform(self.aux[self.cat2])\n",
    "        if(vector.shape[0] > 5):\n",
    "            vector = LatentDirichletAllocation(n_components=5, random_state=self.random_state).fit_transform(vector)\n",
    "        else:\n",
    "            vector = vector.toarray()\n",
    "        self.names = ['%s_%s_%d' % (self.cat1, self.cat2, i) for i in range(vector.shape[1])]\n",
    "        \n",
    "        self.aux[self.names] = pd.DataFrame(vector, index=self.aux.index)\n",
    "           \n",
    "    def transform(self, df):\n",
    "        df = df[[self.cat1, self.cat2]].merge(self.aux, on=self.cat1, how='left')\n",
    "        return df[self.names].values\n",
    "    \n",
    "    def fit_transform(self, df):\n",
    "        self.fit(df)\n",
    "        return self.transform(df)\n",
    "    \n",
    "    def _names(self):\n",
    "        return self.names"
   ]
  },
  {
   "cell_type": "code",
   "execution_count": 13,
   "metadata": {},
   "outputs": [],
   "source": [
    "cat = 'ProductName'\n",
    "num = 'ProductName_ratio_one_w_5'\n",
    "cat2 = 'EngineVersion'"
   ]
  },
  {
   "cell_type": "code",
   "execution_count": 15,
   "metadata": {},
   "outputs": [
    {
     "name": "stdout",
     "output_type": "stream",
     "text": [
      "CPU times: user 12 s, sys: 2.3 s, total: 14.4 s\n",
      "Wall time: 16.1 s\n"
     ]
    }
   ],
   "source": [
    "cc = CategoricalCombination(cat, cat2)\n",
    "%time categorical_values = cc.fit_transform(train)"
   ]
  },
  {
   "cell_type": "code",
   "execution_count": 17,
   "metadata": {},
   "outputs": [
    {
     "data": {
      "text/plain": [
       "(8921483, 5)"
      ]
     },
     "execution_count": 17,
     "metadata": {},
     "output_type": "execute_result"
    }
   ],
   "source": [
    "categorical_values.shape"
   ]
  },
  {
   "cell_type": "code",
   "execution_count": 22,
   "metadata": {},
   "outputs": [
    {
     "data": {
      "text/plain": [
       "['ProductName_EngineVersion_0',\n",
       " 'ProductName_EngineVersion_1',\n",
       " 'ProductName_EngineVersion_2',\n",
       " 'ProductName_EngineVersion_3',\n",
       " 'ProductName_EngineVersion_4']"
      ]
     },
     "execution_count": 22,
     "metadata": {},
     "output_type": "execute_result"
    }
   ],
   "source": [
    "cc.names"
   ]
  },
  {
   "cell_type": "code",
   "execution_count": 18,
   "metadata": {},
   "outputs": [],
   "source": [
    "class CategoricalNumerical():\n",
    "    \n",
    "    def __init__(self, cat, num):\n",
    "        self.cat = cat\n",
    "        self.num = num\n",
    "\n",
    "    def fit(self, df):\n",
    "        self.aux = df.groupby(self.cat).agg({self.num: ['sum', 'mean', 'median', 'std']})\n",
    "        self.aux.columns = self.aux.columns.droplevel()\n",
    "        self.aux = self.aux.reset_index()\n",
    "        self.names = ['%s_%s_%s' % (self.num, self.cat, op) for op in ['sum', 'mean', 'median', 'std']]\n",
    "\n",
    "    def transform(self, df):\n",
    "        df = df[[self.cat, self.num]]\n",
    "        df = df.merge(self.aux, on=self.cat, how='left')\n",
    "        for op in ['sum', 'mean', 'median', 'std']:\n",
    "            name = '%s_%s_%s' % (num, cat, op)\n",
    "            df[name] = df[num] / df[op]\n",
    "        return df[self.names].fillna(0).values\n",
    "    \n",
    "    def fit_transform(self, df):\n",
    "        self.fit(df)\n",
    "        return self.transform(df)\n",
    "\n",
    "    def _names(self):\n",
    "        return self.names\n"
   ]
  },
  {
   "cell_type": "code",
   "execution_count": 19,
   "metadata": {},
   "outputs": [
    {
     "name": "stdout",
     "output_type": "stream",
     "text": [
      "CPU times: user 3.56 s, sys: 3.85 s, total: 7.41 s\n",
      "Wall time: 8.4 s\n"
     ]
    }
   ],
   "source": [
    "cn = CategoricalNumerical(cat, num)\n",
    "%time categorical_numerical = cn.fit_transform(train)"
   ]
  },
  {
   "cell_type": "code",
   "execution_count": 20,
   "metadata": {},
   "outputs": [
    {
     "data": {
      "text/plain": [
       "(8921483, 4)"
      ]
     },
     "execution_count": 20,
     "metadata": {},
     "output_type": "execute_result"
    }
   ],
   "source": [
    "categorical_numerical.shape"
   ]
  },
  {
   "cell_type": "code",
   "execution_count": 21,
   "metadata": {},
   "outputs": [
    {
     "data": {
      "text/plain": [
       "['ProductName_ratio_one_w_5_ProductName_sum',\n",
       " 'ProductName_ratio_one_w_5_ProductName_mean',\n",
       " 'ProductName_ratio_one_w_5_ProductName_median',\n",
       " 'ProductName_ratio_one_w_5_ProductName_std']"
      ]
     },
     "execution_count": 21,
     "metadata": {},
     "output_type": "execute_result"
    }
   ],
   "source": [
    "cn.names"
   ]
  },
  {
   "cell_type": "code",
   "execution_count": 23,
   "metadata": {},
   "outputs": [],
   "source": [
    "# def categorical_numerical(df, cat, num):\n",
    "#     aux = df.groupby(cat).agg({num: ['sum', 'mean', 'median', 'std']})\n",
    "#     aux.columns = aux.columns.droplevel()\n",
    "#     aux = aux.reset_index()\n",
    "#     names = []\n",
    "#     df = df[[cat, num]]\n",
    "#     df = df.merge(aux, on=cat, how='left')\n",
    "#     for op in ['sum', 'mean', 'median', 'std']:\n",
    "#         name = '%s_%s_%s' % (num, cat, op)\n",
    "#         df[name] = df[num] / df[op]\n",
    "#         names.append(name)\n",
    "\n",
    "#     return names, df[names].fillna(0)"
   ]
  },
  {
   "cell_type": "code",
   "execution_count": 24,
   "metadata": {},
   "outputs": [],
   "source": [
    "class TreatCategoricals():\n",
    "    def __init__(self):\n",
    "        self.categorical_dict = {}\n",
    "        self.drop_categoricals = []\n",
    "\n",
    "    def _get_names(self, data, col):\n",
    "        aux = data[col].value_counts()/data.shape[0]\n",
    "        names = []\n",
    "        for i in range(len(aux)):\n",
    "            if(aux.values[i] > 0.1):\n",
    "                names.append(aux.index[i])\n",
    "        return names\n",
    "\n",
    "    def fit(self, data, cols):\n",
    "        for col in cols:\n",
    "            names = self._get_names(data, col)\n",
    "            if(len(names) == 0):\n",
    "                self.drop_categoricals.append(col)\n",
    "            else:\n",
    "                self.categorical_dict[col] = names\n",
    "\n",
    "    def transform(self, data, cols):\n",
    "        cols = [col for col in cols if col not in self.drop_categoricals]\n",
    "        first = True\n",
    "        for col in cols:\n",
    "            if(first):\n",
    "                all_values = data[col].apply(lambda x: x if x in self.categorical_dict[col] else 'outros').values.reshape(-1,1)\n",
    "                first = False\n",
    "            else:\n",
    "                aux = data[col].apply(lambda x: x if x in self.categorical_dict[col] else 'outros').values.reshape(-1,1)\n",
    "                all_values = np.concatenate([all_values, aux], axis=1)\n",
    "\n",
    "        return pd.DataFrame(all_values, columns=cols)       \n",
    "    \n",
    "    def fit_transform(self, data, cols):\n",
    "        self.fit(data, cols)\n",
    "        return self.transform(data, cols)\n"
   ]
  },
  {
   "cell_type": "code",
   "execution_count": 25,
   "metadata": {},
   "outputs": [],
   "source": [
    "from sklearn.preprocessing import LabelEncoder, OneHotEncoder\n",
    "\n",
    "\n",
    "class GetDummies():\n",
    "    def __init__(self):\n",
    "        self.transformation_dict = {}\n",
    "        \n",
    "    def fit(self, data, cols):\n",
    "        for col in cols:\n",
    "            lb = LabelEncoder().fit(data[col].values)\n",
    "            ec = OneHotEncoder(sparse=False, categories='auto').fit(lb.transform(data[col].values).reshape(-1,1))\n",
    "            self.transformation_dict[col] = [lb, ec]\n",
    "    def transform(self, data, cols):\n",
    "        first = True\n",
    "        for col in cols:\n",
    "            if(first):\n",
    "                dummies = self.transformation_dict[col][1].transform(self.transformation_dict[col][0].transform(data[col].values).reshape(-1,1))\n",
    "                first = False\n",
    "            else:\n",
    "                aux = self.transformation_dict[col][1].transform(self.transformation_dict[col][0].transform(data[col].values).reshape(-1,1))\n",
    "                dummies = np.concatenate([dummies, aux], axis=1)\n",
    "        return dummies\n",
    "    def fit_transform(self, data, cols):\n",
    "        self.fit(data, cols)\n",
    "        return self.transform(data, cols)\n",
    "    def _names(self, data, cols):\n",
    "        all_names = []\n",
    "        for col in cols:\n",
    "            names = np.array(train[col].value_counts().index)\n",
    "            names = names[self.transformation_dict[col][0].transform(names)]\n",
    "            names = list(map(lambda x: '%s_%s' % (col, x), names))\n",
    "            all_names += names\n",
    "        return all_names"
   ]
  },
  {
   "cell_type": "code",
   "execution_count": 26,
   "metadata": {},
   "outputs": [],
   "source": [
    "cols = ['ProductName', 'EngineVersion', 'AppVersion']"
   ]
  },
  {
   "cell_type": "code",
   "execution_count": 27,
   "metadata": {},
   "outputs": [],
   "source": [
    "tc = TreatCategoricals()\n",
    "tc.fit(train, cols)\n",
    "cols = [col for col in cols if col not in tc.drop_categoricals]\n",
    "train[cols] = tc.transform(train, cols)\n",
    "gd = GetDummies()\n",
    "dummies = gd.fit_transform(train, cols)"
   ]
  },
  {
   "cell_type": "code",
   "execution_count": 29,
   "metadata": {},
   "outputs": [],
   "source": [
    "dummies_names = gd._names(train, cols)"
   ]
  },
  {
   "cell_type": "code",
   "execution_count": 30,
   "metadata": {},
   "outputs": [
    {
     "data": {
      "text/plain": [
       "['ProductName_outros',\n",
       " 'ProductName_win8defender',\n",
       " 'EngineVersion_1.1.15100.1',\n",
       " 'EngineVersion_1.1.15200.1',\n",
       " 'EngineVersion_outros',\n",
       " 'AppVersion_4.18.1807.18075',\n",
       " 'AppVersion_outros']"
      ]
     },
     "execution_count": 30,
     "metadata": {},
     "output_type": "execute_result"
    }
   ],
   "source": [
    "dummies_names"
   ]
  },
  {
   "cell_type": "code",
   "execution_count": 31,
   "metadata": {},
   "outputs": [],
   "source": [
    "import xgboost as xgb"
   ]
  },
  {
   "cell_type": "code",
   "execution_count": 32,
   "metadata": {},
   "outputs": [],
   "source": [
    "random_feat = np.random.rand(dummies.shape[0], 3)\n",
    "dummies_names += ['random' for i in range(3)]\n",
    "dummies = np.concatenate([dummies, random_feat], axis=1)"
   ]
  },
  {
   "cell_type": "code",
   "execution_count": 33,
   "metadata": {},
   "outputs": [],
   "source": [
    "from sklearn.ensemble import RandomForestClassifier, GradientBoostingClassifier\n",
    "#gb = GradientBoostingClassifier(n_estimators=100).fit(dummies[:100000,:], train.HasDetections.values[:100000])\n",
    "rf = RandomForestClassifier(n_estimators=100, n_jobs=-1).fit(dummies[:100000,:], train.HasDetections.values[:100000])"
   ]
  },
  {
   "cell_type": "code",
   "execution_count": 34,
   "metadata": {},
   "outputs": [],
   "source": [
    "a = pd.DataFrame({'Features': dummies_names,\n",
    "                  'Importance': rf.feature_importances_}) \\\n",
    "    .sort_values('Importance').reset_index(drop=True)"
   ]
  },
  {
   "cell_type": "code",
   "execution_count": 35,
   "metadata": {},
   "outputs": [
    {
     "data": {
      "image/png": "[encoded data removed]",
      "text/plain": [
       "<Figure size 1080x360 with 1 Axes>"
      ]
     },
     "metadata": {
      "needs_background": "light"
     },
     "output_type": "display_data"
    }
   ],
   "source": [
    "fig, ax = plt.subplots(figsize=(15,5))\n",
    "plt.barh(y=0, width=max(a.Importance.values)+0.1, color='white')\n",
    "a.plot.barh(x='Features', y='Importance', ax=ax)\n",
    "for i in range(a.shape[0]):\n",
    "    plt.text(y=i-0.15, x=a.Importance.values[i]+0.005, s=('%.2f%%' % (100*a.Importance.values[i])))\n",
    "plt.legend().set_visible(False)\n",
    "plt.show()"
   ]
  },
  {
   "cell_type": "code",
   "execution_count": 36,
   "metadata": {},
   "outputs": [],
   "source": [
    "model = xgb.XGBClassifier().fit(dummies[:100000,:], train.HasDetections.values[:100000])"
   ]
  },
  {
   "cell_type": "code",
   "execution_count": 37,
   "metadata": {},
   "outputs": [
    {
     "data": {
      "text/plain": [
       "{'f4': 25, 'f2': 32, 'f8': 139, 'f5': 44, 'f9': 190, 'f7': 177, 'f3': 5}"
      ]
     },
     "execution_count": 37,
     "metadata": {},
     "output_type": "execute_result"
    }
   ],
   "source": [
    "model.get_booster().get_fscore()"
   ]
  },
  {
   "cell_type": "code",
   "execution_count": 38,
   "metadata": {},
   "outputs": [],
   "source": [
    "imp_vals = model.get_booster().get_fscore()\n",
    "imp = [float(imp_vals.get('f'+str(i),0.)) for i in range(len(dummies_names))]\n",
    "total = sum(imp)\n",
    "b = pd.DataFrame({'Features': dummies_names,\n",
    "                  'Importance': np.array(imp)/total}) \\\n",
    "    .sort_values('Importance').reset_index(drop=True)"
   ]
  },
  {
   "cell_type": "code",
   "execution_count": 39,
   "metadata": {},
   "outputs": [
    {
     "data": {
      "image/png": "[encoded data removed]",
      "text/plain": [
       "<Figure size 1080x360 with 1 Axes>"
      ]
     },
     "metadata": {
      "needs_background": "light"
     },
     "output_type": "display_data"
    }
   ],
   "source": [
    "fig, ax = plt.subplots(figsize=(15,5))\n",
    "plt.barh(y=0, width=max(b.Importance.values)+0.1, color='white')\n",
    "b.plot.barh(x='Features', y='Importance', ax=ax)\n",
    "for i in range(b.shape[0]):\n",
    "    plt.text(y=i-0.15, x=b.Importance.values[i]+0.005, s=('%.2f%%' % (100*b.Importance.values[i])))\n",
    "plt.legend().set_visible(False)\n",
    "plt.show()"
   ]
  },
  {
   "cell_type": "code",
   "execution_count": null,
   "metadata": {},
   "outputs": [],
   "source": []
  },
  {
   "cell_type": "code",
   "execution_count": null,
   "metadata": {},
   "outputs": [],
   "source": []
  }
 ],
 "metadata": {
  "kernelspec": {
   "display_name": "Python 3",
   "language": "python",
   "name": "python3"
  },
  "language_info": {
   "codemirror_mode": {
    "name": "ipython",
    "version": 3
   },
   "file_extension": ".py",
   "mimetype": "text/x-python",
   "name": "python",
   "nbconvert_exporter": "python",
   "pygments_lexer": "ipython3",
   "version": "3.7.1"
  }
 },
 "nbformat": 4,
 "nbformat_minor": 2
}
