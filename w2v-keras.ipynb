{
 "cells": [
  {
   "cell_type": "code",
   "execution_count": 1,
   "metadata": {},
   "outputs": [
    {
     "name": "stderr",
     "output_type": "stream",
     "text": [
      "Using TensorFlow backend.\n",
      "/Library/Frameworks/Python.framework/Versions/3.7/lib/python3.7/importlib/_bootstrap.py:219: RuntimeWarning: compiletime version 3.6 of module 'tensorflow.python.framework.fast_tensor_util' does not match runtime version 3.7\n",
      "  return f(*args, **kwds)\n"
     ]
    }
   ],
   "source": [
    "import pandas as pd\n",
    "import numpy as np\n",
    "import matplotlib.pyplot as plt\n",
    "from keras.models import Model\n",
    "from keras.layers import Embedding, Input, Dense, Reshape, merge, Concatenate, Activation\n",
    "from keras.activations import sigmoid\n",
    "from keras.backend import squeeze\n",
    "from scipy import spatial"
   ]
  },
  {
   "cell_type": "code",
   "execution_count": 2,
   "metadata": {},
   "outputs": [],
   "source": [
    "word = Input((1,))\n",
    "pos = Input((1,))\n",
    "neg = Input((10,))"
   ]
  },
  {
   "cell_type": "code",
   "execution_count": 3,
   "metadata": {},
   "outputs": [],
   "source": [
    "emb_1 = Embedding(100, 10, name='emb_1')\n",
    "emb_2 = Embedding(100,10, name='emb_2')"
   ]
  },
  {
   "cell_type": "code",
   "execution_count": 4,
   "metadata": {},
   "outputs": [],
   "source": [
    "vec_w = emb_1(word)\n",
    "vec_p = emb_2(pos)\n",
    "vec_n = emb_2(neg)"
   ]
  },
  {
   "cell_type": "code",
   "execution_count": 5,
   "metadata": {},
   "outputs": [],
   "source": [
    "pos_ = merge.dot([vec_w,vec_p], axes=2)\n",
    "neg_ = merge.dot([vec_w,vec_n], axes=2)"
   ]
  },
  {
   "cell_type": "code",
   "execution_count": 6,
   "metadata": {},
   "outputs": [],
   "source": [
    "concat = Concatenate()([pos_,neg_])\n",
    "concat = Reshape((11,))(concat)"
   ]
  },
  {
   "cell_type": "code",
   "execution_count": 7,
   "metadata": {},
   "outputs": [],
   "source": [
    "output = Activation('sigmoid')(concat)"
   ]
  },
  {
   "cell_type": "code",
   "execution_count": 8,
   "metadata": {},
   "outputs": [
    {
     "name": "stderr",
     "output_type": "stream",
     "text": [
      "/Library/Frameworks/Python.framework/Versions/3.7/lib/python3.7/site-packages/ipykernel_launcher.py:1: UserWarning: Update your `Model` call to the Keras 2 API: `Model(inputs=[<tf.Tenso..., outputs=Tensor(\"ac...)`\n",
      "  \"\"\"Entry point for launching an IPython kernel.\n"
     ]
    }
   ],
   "source": [
    "model = Model(input=[word, pos, neg], output=output)\n",
    "model.compile(loss='binary_crossentropy', optimizer='rmsprop')"
   ]
  },
  {
   "cell_type": "markdown",
   "metadata": {},
   "source": [
    "## Training 0 to be in context of 1"
   ]
  },
  {
   "cell_type": "code",
   "execution_count": 9,
   "metadata": {},
   "outputs": [],
   "source": [
    "arr_1 = np.zeros((1,1))\n",
    "arr_2 = np.zeros((1,1))\n",
    "arr_3 = np.random.randint(low=5,high=100, size=(1,10))\n",
    "out = np.zeros((1,11))\n",
    "out[0,0] = 1\n",
    "\n",
    "arr_2[0,0] = 1"
   ]
  },
  {
   "cell_type": "code",
   "execution_count": 10,
   "metadata": {},
   "outputs": [],
   "source": [
    "loss = []\n",
    "for i in range(1000):\n",
    "    loss.append(model.train_on_batch(x=[arr_1,arr_2,arr_3],y=out))"
   ]
  },
  {
   "cell_type": "code",
   "execution_count": 11,
   "metadata": {},
   "outputs": [
    {
     "data": {
      "text/plain": [
       "[<matplotlib.lines.Line2D at 0x1240526d8>]"
      ]
     },
     "execution_count": 11,
     "metadata": {},
     "output_type": "execute_result"
    },
    {
     "data": {
      "image/png": "[encoded data removed]",
      "text/plain": [
       "<Figure size 432x288 with 1 Axes>"
      ]
     },
     "metadata": {
      "needs_background": "light"
     },
     "output_type": "display_data"
    }
   ],
   "source": [
    "plt.plot(loss)"
   ]
  },
  {
   "cell_type": "markdown",
   "metadata": {},
   "source": [
    "## Training 2 to be in context of 1"
   ]
  },
  {
   "cell_type": "code",
   "execution_count": 12,
   "metadata": {},
   "outputs": [],
   "source": [
    "arr_1 = np.zeros((1,1))\n",
    "arr_2 = np.zeros((1,1))\n",
    "arr_3 = np.random.randint(low=5,high=100, size=(1,10))\n",
    "out = np.zeros((1,11))\n",
    "out[0,0] = 1\n",
    "\n",
    "arr_1[0,0] = 2\n",
    "arr_2[0,0] = 1"
   ]
  },
  {
   "cell_type": "code",
   "execution_count": 13,
   "metadata": {},
   "outputs": [],
   "source": [
    "loss = []\n",
    "for i in range(1000):\n",
    "    loss.append(model.train_on_batch(x=[arr_1,arr_2,arr_3],y=out))"
   ]
  },
  {
   "cell_type": "code",
   "execution_count": 14,
   "metadata": {},
   "outputs": [
    {
     "data": {
      "text/plain": [
       "[<matplotlib.lines.Line2D at 0x12415c048>]"
      ]
     },
     "execution_count": 14,
     "metadata": {},
     "output_type": "execute_result"
    },
    {
     "data": {
      "image/png": "[encoded data removed]",
      "text/plain": [
       "<Figure size 432x288 with 1 Axes>"
      ]
     },
     "metadata": {
      "needs_background": "light"
     },
     "output_type": "display_data"
    }
   ],
   "source": [
    "plt.plot(loss)"
   ]
  },
  {
   "cell_type": "markdown",
   "metadata": {},
   "source": [
    "## Training 2 to be in context of 3"
   ]
  },
  {
   "cell_type": "code",
   "execution_count": 15,
   "metadata": {},
   "outputs": [],
   "source": [
    "arr_1 = np.zeros((1,1))\n",
    "arr_2 = np.zeros((1,1))\n",
    "arr_3 = np.random.randint(low=5,high=100, size=(1,10))\n",
    "out = np.zeros((1,11))\n",
    "out[0,0] = 1\n",
    "\n",
    "arr_1[0,0] = 2\n",
    "arr_2[0,0] = 3"
   ]
  },
  {
   "cell_type": "code",
   "execution_count": 16,
   "metadata": {},
   "outputs": [],
   "source": [
    "loss = []\n",
    "for i in range(1000):\n",
    "    loss.append(model.train_on_batch(x=[arr_1,arr_2,arr_3],y=out))"
   ]
  },
  {
   "cell_type": "code",
   "execution_count": 17,
   "metadata": {},
   "outputs": [
    {
     "data": {
      "text/plain": [
       "[<matplotlib.lines.Line2D at 0x1242234e0>]"
      ]
     },
     "execution_count": 17,
     "metadata": {},
     "output_type": "execute_result"
    },
    {
     "data": {
      "image/png": "[encoded data removed]",
      "text/plain": [
       "<Figure size 432x288 with 1 Axes>"
      ]
     },
     "metadata": {
      "needs_background": "light"
     },
     "output_type": "display_data"
    }
   ],
   "source": [
    "plt.plot(loss)"
   ]
  },
  {
   "cell_type": "markdown",
   "metadata": {},
   "source": [
    "## Training 4 to be in context of 3"
   ]
  },
  {
   "cell_type": "code",
   "execution_count": 18,
   "metadata": {},
   "outputs": [],
   "source": [
    "arr_1 = np.zeros((1,1))\n",
    "arr_2 = np.zeros((1,1))\n",
    "arr_3 = np.random.randint(low=5,high=100, size=(1,10))\n",
    "out = np.zeros((1,11))\n",
    "out[0,0] = 1\n",
    "\n",
    "arr_1[0,0] = 4\n",
    "arr_2[0,0] = 3"
   ]
  },
  {
   "cell_type": "code",
   "execution_count": 19,
   "metadata": {},
   "outputs": [],
   "source": [
    "loss = []\n",
    "for i in range(1000):\n",
    "    loss.append(model.train_on_batch(x=[arr_1,arr_2,arr_3],y=out))"
   ]
  },
  {
   "cell_type": "code",
   "execution_count": 20,
   "metadata": {},
   "outputs": [
    {
     "data": {
      "text/plain": [
       "[<matplotlib.lines.Line2D at 0x124275e48>]"
      ]
     },
     "execution_count": 20,
     "metadata": {},
     "output_type": "execute_result"
    },
    {
     "data": {
      "image/png": "[encoded data removed]",
      "text/plain": [
       "<Figure size 432x288 with 1 Axes>"
      ]
     },
     "metadata": {
      "needs_background": "light"
     },
     "output_type": "display_data"
    }
   ],
   "source": [
    "plt.plot(loss)"
   ]
  },
  {
   "cell_type": "markdown",
   "metadata": {},
   "source": [
    "## Test most similars"
   ]
  },
  {
   "cell_type": "code",
   "execution_count": 21,
   "metadata": {},
   "outputs": [],
   "source": [
    "def most_similar(n=0):\n",
    "    \n",
    "    primary = model.layers[3].get_weights()[0][n]\n",
    "    ids = list()\n",
    "    sim = list()\n",
    "    for i in range(model.layers[3].get_weights()[0].shape[0]):\n",
    "        if(i!=n):\n",
    "            secondary = model.layers[3].get_weights()[0][i]\n",
    "            sim.append(1 - spatial.distance.cosine(primary, secondary))\n",
    "            ids.append(str(i))\n",
    "    \n",
    "    return pd.DataFrame({'Id': ids, 'Similarity': sim}).sort_values('Similarity', ascending=False).head(10).values"
   ]
  },
  {
   "cell_type": "code",
   "execution_count": 22,
   "metadata": {},
   "outputs": [
    {
     "name": "stdout",
     "output_type": "stream",
     "text": [
      "[['0' 0.9998466968536377]\n",
      " ['4' 0.9993940591812134]\n",
      " ['28' 0.7139049172401428]\n",
      " ['95' 0.6732168197631836]\n",
      " ['54' 0.6595069169998169]\n",
      " ['56' 0.6379315853118896]\n",
      " ['32' 0.6148781776428223]\n",
      " ['44' 0.5391502380371094]\n",
      " ['33' 0.5160682797431946]\n",
      " ['63' 0.5106841921806335]]\n"
     ]
    }
   ],
   "source": [
    "print(most_similar(2))"
   ]
  },
  {
   "cell_type": "code",
   "execution_count": null,
   "metadata": {},
   "outputs": [],
   "source": []
  },
  {
   "cell_type": "code",
   "execution_count": null,
   "metadata": {},
   "outputs": [],
   "source": []
  }
 ],
 "metadata": {
  "kernelspec": {
   "display_name": "Python 3",
   "language": "python",
   "name": "python3"
  },
  "language_info": {
   "codemirror_mode": {
    "name": "ipython",
    "version": 3
   },
   "file_extension": ".py",
   "mimetype": "text/x-python",
   "name": "python",
   "nbconvert_exporter": "python",
   "pygments_lexer": "ipython3",
   "version": "3.7.1rc1"
  }
 },
 "nbformat": 4,
 "nbformat_minor": 2
}
