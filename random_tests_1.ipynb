{
 "cells": [
  {
   "cell_type": "code",
   "execution_count": 1,
   "metadata": {},
   "outputs": [],
   "source": [
    "import pandas as pd\n",
    "import numpy as np\n",
    "import matplotlib.pyplot as plt\n",
    "import random"
   ]
  },
  {
   "cell_type": "code",
   "execution_count": 2,
   "metadata": {},
   "outputs": [],
   "source": [
    "dtypes = {\n",
    "    #'MachineIdentifier':                                    'category',\n",
    "    'ProductName':                                          'category',\n",
    "    'EngineVersion':                                        'category',\n",
    "    'AppVersion':                                           'category',\n",
    "    'AvSigVersion':                                         'category',\n",
    "    'IsBeta':                                               'int8',\n",
    "    'RtpStateBitfield':                                     'float16',\n",
    "    'IsSxsPassiveMode':                                     'int8',\n",
    "    'DefaultBrowsersIdentifier':                            'float16',\n",
    "    'AVProductStatesIdentifier':                            'float32',\n",
    "    'AVProductsInstalled':                                  'float16',\n",
    "    'AVProductsEnabled':                                    'float16',\n",
    "    'HasTpm':                                               'int8',\n",
    "    'CountryIdentifier':                                    'int32',\n",
    "    'CityIdentifier':                                       'float32',\n",
    "    'OrganizationIdentifier':                               'float16',\n",
    "    'GeoNameIdentifier':                                    'float32',\n",
    "    'LocaleEnglishNameIdentifier':                          'int32',\n",
    "    'Platform':                                             'category',\n",
    "    'Processor':                                            'category',\n",
    "    'OsVer':                                                'category',\n",
    "    'OsBuild':                                              'int16',\n",
    "    'OsSuite':                                              'int16',\n",
    "    'OsPlatformSubRelease':                                 'category',\n",
    "    'OsBuildLab':                                           'category',\n",
    "    'SkuEdition':                                           'category',\n",
    "    'IsProtected':                                          'float16',\n",
    "    'AutoSampleOptIn':                                      'int8',\n",
    "    'PuaMode':                                              'category',\n",
    "    'SMode':                                                'float16',\n",
    "    'IeVerIdentifier':                                      'float32',\n",
    "    'SmartScreen':                                          'category',\n",
    "    'Firewall':                                             'float16',\n",
    "    'UacLuaenable':                                         'float64',\n",
    "    'Census_MDC2FormFactor':                                'category',\n",
    "    'Census_DeviceFamily':                                  'category',\n",
    "    'Census_OEMNameIdentifier':                             'float32',\n",
    "    'Census_OEMModelIdentifier':                            'float32',\n",
    "    'Census_ProcessorCoreCount':                            'float16',\n",
    "    'Census_ProcessorManufacturerIdentifier':               'float16',\n",
    "    'Census_ProcessorModelIdentifier':                      'float32',\n",
    "    'Census_ProcessorClass':                                'category',\n",
    "    'Census_PrimaryDiskTotalCapacity':                      'float32',\n",
    "    'Census_PrimaryDiskTypeName':                           'category',\n",
    "    'Census_SystemVolumeTotalCapacity':                     'float32',\n",
    "    'Census_HasOpticalDiskDrive':                           'int8',\n",
    "    'Census_TotalPhysicalRAM':                              'float32',\n",
    "    'Census_ChassisTypeName':                               'category',\n",
    "    'Census_InternalPrimaryDiagonalDisplaySizeInInches':    'float32',\n",
    "    'Census_InternalPrimaryDisplayResolutionHorizontal':    'float32',\n",
    "    'Census_InternalPrimaryDisplayResolutionVertical':      'float32',\n",
    "    'Census_PowerPlatformRoleName':                         'category',\n",
    "    'Census_InternalBatteryType':                           'category',\n",
    "    'Census_InternalBatteryNumberOfCharges':                'float32',\n",
    "    'Census_OSVersion':                                     'category',\n",
    "    'Census_OSArchitecture':                                'category',\n",
    "    'Census_OSBranch':                                      'category',\n",
    "    'Census_OSBuildNumber':                                 'int32',\n",
    "    'Census_OSBuildRevision':                               'int32',\n",
    "    'Census_OSEdition':                                     'category',\n",
    "    'Census_OSSkuName':                                     'category',\n",
    "    'Census_OSInstallTypeName':                             'category',\n",
    "    'Census_OSInstallLanguageIdentifier':                   'float16',\n",
    "    'Census_OSUILocaleIdentifier':                          'int32',\n",
    "    'Census_OSWUAutoUpdateOptionsName':                     'category',\n",
    "    'Census_IsPortableOperatingSystem':                     'int8',\n",
    "    'Census_GenuineStateName':                              'category',\n",
    "    'Census_ActivationChannel':                             'category',\n",
    "    'Census_IsFlightingInternal':                           'float16',\n",
    "    'Census_IsFlightsDisabled':                             'float16',\n",
    "    'Census_FlightRing':                                    'category',\n",
    "    'Census_ThresholdOptIn':                                'float16',\n",
    "    'Census_FirmwareManufacturerIdentifier':                'float32',\n",
    "    'Census_FirmwareVersionIdentifier':                     'float32',\n",
    "    'Census_IsSecureBootEnabled':                           'int8',\n",
    "    'Census_IsWIMBootEnabled':                              'float16',\n",
    "    'Census_IsVirtualDevice':                               'float16',\n",
    "    'Census_IsTouchEnabled':                                'int8',\n",
    "    'Census_IsPenCapable':                                  'int8',\n",
    "    'Census_IsAlwaysOnAlwaysConnectedCapable':              'float16',\n",
    "    'Wdft_IsGamer':                                         'float16',\n",
    "    'Wdft_RegionIdentifier':                                'float32',\n",
    "    'HasDetections':                                        'int8'\n",
    "}"
   ]
  },
  {
   "cell_type": "code",
   "execution_count": 3,
   "metadata": {},
   "outputs": [],
   "source": [
    "train = pd.read_csv('train.csv', dtype=dtypes)"
   ]
  },
  {
   "cell_type": "code",
   "execution_count": 4,
   "metadata": {},
   "outputs": [
    {
     "data": {
      "text/html": [
       "<div>\n",
       "<style scoped>\n",
       "    .dataframe tbody tr th:only-of-type {\n",
       "        vertical-align: middle;\n",
       "    }\n",
       "\n",
       "    .dataframe tbody tr th {\n",
       "        vertical-align: top;\n",
       "    }\n",
       "\n",
       "    .dataframe thead th {\n",
       "        text-align: right;\n",
       "    }\n",
       "</style>\n",
       "<table border=\"1\" class=\"dataframe\">\n",
       "  <thead>\n",
       "    <tr style=\"text-align: right;\">\n",
       "      <th></th>\n",
       "      <th>MachineIdentifier</th>\n",
       "      <th>ProductName</th>\n",
       "      <th>EngineVersion</th>\n",
       "      <th>AppVersion</th>\n",
       "      <th>AvSigVersion</th>\n",
       "      <th>IsBeta</th>\n",
       "      <th>RtpStateBitfield</th>\n",
       "      <th>IsSxsPassiveMode</th>\n",
       "      <th>DefaultBrowsersIdentifier</th>\n",
       "      <th>AVProductStatesIdentifier</th>\n",
       "      <th>...</th>\n",
       "      <th>Census_FirmwareVersionIdentifier</th>\n",
       "      <th>Census_IsSecureBootEnabled</th>\n",
       "      <th>Census_IsWIMBootEnabled</th>\n",
       "      <th>Census_IsVirtualDevice</th>\n",
       "      <th>Census_IsTouchEnabled</th>\n",
       "      <th>Census_IsPenCapable</th>\n",
       "      <th>Census_IsAlwaysOnAlwaysConnectedCapable</th>\n",
       "      <th>Wdft_IsGamer</th>\n",
       "      <th>Wdft_RegionIdentifier</th>\n",
       "      <th>HasDetections</th>\n",
       "    </tr>\n",
       "  </thead>\n",
       "  <tbody>\n",
       "    <tr>\n",
       "      <th>0</th>\n",
       "      <td>0000028988387b115f69f31a3bf04f09</td>\n",
       "      <td>win8defender</td>\n",
       "      <td>1.1.15100.1</td>\n",
       "      <td>4.18.1807.18075</td>\n",
       "      <td>1.273.1735.0</td>\n",
       "      <td>0</td>\n",
       "      <td>7.0</td>\n",
       "      <td>0</td>\n",
       "      <td>NaN</td>\n",
       "      <td>53447.0</td>\n",
       "      <td>...</td>\n",
       "      <td>36144.0</td>\n",
       "      <td>0</td>\n",
       "      <td>NaN</td>\n",
       "      <td>0.0</td>\n",
       "      <td>0</td>\n",
       "      <td>0</td>\n",
       "      <td>0.0</td>\n",
       "      <td>0.0</td>\n",
       "      <td>10.0</td>\n",
       "      <td>0</td>\n",
       "    </tr>\n",
       "    <tr>\n",
       "      <th>1</th>\n",
       "      <td>000007535c3f730efa9ea0b7ef1bd645</td>\n",
       "      <td>win8defender</td>\n",
       "      <td>1.1.14600.4</td>\n",
       "      <td>4.13.17134.1</td>\n",
       "      <td>1.263.48.0</td>\n",
       "      <td>0</td>\n",
       "      <td>7.0</td>\n",
       "      <td>0</td>\n",
       "      <td>NaN</td>\n",
       "      <td>53447.0</td>\n",
       "      <td>...</td>\n",
       "      <td>57858.0</td>\n",
       "      <td>0</td>\n",
       "      <td>NaN</td>\n",
       "      <td>0.0</td>\n",
       "      <td>0</td>\n",
       "      <td>0</td>\n",
       "      <td>0.0</td>\n",
       "      <td>0.0</td>\n",
       "      <td>8.0</td>\n",
       "      <td>0</td>\n",
       "    </tr>\n",
       "    <tr>\n",
       "      <th>2</th>\n",
       "      <td>000007905a28d863f6d0d597892cd692</td>\n",
       "      <td>win8defender</td>\n",
       "      <td>1.1.15100.1</td>\n",
       "      <td>4.18.1807.18075</td>\n",
       "      <td>1.273.1341.0</td>\n",
       "      <td>0</td>\n",
       "      <td>7.0</td>\n",
       "      <td>0</td>\n",
       "      <td>NaN</td>\n",
       "      <td>53447.0</td>\n",
       "      <td>...</td>\n",
       "      <td>52682.0</td>\n",
       "      <td>0</td>\n",
       "      <td>NaN</td>\n",
       "      <td>0.0</td>\n",
       "      <td>0</td>\n",
       "      <td>0</td>\n",
       "      <td>0.0</td>\n",
       "      <td>0.0</td>\n",
       "      <td>3.0</td>\n",
       "      <td>0</td>\n",
       "    </tr>\n",
       "    <tr>\n",
       "      <th>3</th>\n",
       "      <td>00000b11598a75ea8ba1beea8459149f</td>\n",
       "      <td>win8defender</td>\n",
       "      <td>1.1.15100.1</td>\n",
       "      <td>4.18.1807.18075</td>\n",
       "      <td>1.273.1527.0</td>\n",
       "      <td>0</td>\n",
       "      <td>7.0</td>\n",
       "      <td>0</td>\n",
       "      <td>NaN</td>\n",
       "      <td>53447.0</td>\n",
       "      <td>...</td>\n",
       "      <td>20050.0</td>\n",
       "      <td>0</td>\n",
       "      <td>NaN</td>\n",
       "      <td>0.0</td>\n",
       "      <td>0</td>\n",
       "      <td>0</td>\n",
       "      <td>0.0</td>\n",
       "      <td>0.0</td>\n",
       "      <td>3.0</td>\n",
       "      <td>1</td>\n",
       "    </tr>\n",
       "    <tr>\n",
       "      <th>4</th>\n",
       "      <td>000014a5f00daa18e76b81417eeb99fc</td>\n",
       "      <td>win8defender</td>\n",
       "      <td>1.1.15100.1</td>\n",
       "      <td>4.18.1807.18075</td>\n",
       "      <td>1.273.1379.0</td>\n",
       "      <td>0</td>\n",
       "      <td>7.0</td>\n",
       "      <td>0</td>\n",
       "      <td>NaN</td>\n",
       "      <td>53447.0</td>\n",
       "      <td>...</td>\n",
       "      <td>19844.0</td>\n",
       "      <td>0</td>\n",
       "      <td>0.0</td>\n",
       "      <td>0.0</td>\n",
       "      <td>0</td>\n",
       "      <td>0</td>\n",
       "      <td>0.0</td>\n",
       "      <td>0.0</td>\n",
       "      <td>1.0</td>\n",
       "      <td>1</td>\n",
       "    </tr>\n",
       "  </tbody>\n",
       "</table>\n",
       "<p>5 rows × 83 columns</p>\n",
       "</div>"
      ],
      "text/plain": [
       "                  MachineIdentifier   ProductName EngineVersion  \\\n",
       "0  0000028988387b115f69f31a3bf04f09  win8defender   1.1.15100.1   \n",
       "1  000007535c3f730efa9ea0b7ef1bd645  win8defender   1.1.14600.4   \n",
       "2  000007905a28d863f6d0d597892cd692  win8defender   1.1.15100.1   \n",
       "3  00000b11598a75ea8ba1beea8459149f  win8defender   1.1.15100.1   \n",
       "4  000014a5f00daa18e76b81417eeb99fc  win8defender   1.1.15100.1   \n",
       "\n",
       "        AppVersion  AvSigVersion  IsBeta  RtpStateBitfield  IsSxsPassiveMode  \\\n",
       "0  4.18.1807.18075  1.273.1735.0       0               7.0                 0   \n",
       "1     4.13.17134.1    1.263.48.0       0               7.0                 0   \n",
       "2  4.18.1807.18075  1.273.1341.0       0               7.0                 0   \n",
       "3  4.18.1807.18075  1.273.1527.0       0               7.0                 0   \n",
       "4  4.18.1807.18075  1.273.1379.0       0               7.0                 0   \n",
       "\n",
       "   DefaultBrowsersIdentifier  AVProductStatesIdentifier      ...       \\\n",
       "0                        NaN                    53447.0      ...        \n",
       "1                        NaN                    53447.0      ...        \n",
       "2                        NaN                    53447.0      ...        \n",
       "3                        NaN                    53447.0      ...        \n",
       "4                        NaN                    53447.0      ...        \n",
       "\n",
       "   Census_FirmwareVersionIdentifier  Census_IsSecureBootEnabled  \\\n",
       "0                           36144.0                           0   \n",
       "1                           57858.0                           0   \n",
       "2                           52682.0                           0   \n",
       "3                           20050.0                           0   \n",
       "4                           19844.0                           0   \n",
       "\n",
       "   Census_IsWIMBootEnabled  Census_IsVirtualDevice  Census_IsTouchEnabled  \\\n",
       "0                      NaN                     0.0                      0   \n",
       "1                      NaN                     0.0                      0   \n",
       "2                      NaN                     0.0                      0   \n",
       "3                      NaN                     0.0                      0   \n",
       "4                      0.0                     0.0                      0   \n",
       "\n",
       "   Census_IsPenCapable  Census_IsAlwaysOnAlwaysConnectedCapable  Wdft_IsGamer  \\\n",
       "0                    0                                      0.0           0.0   \n",
       "1                    0                                      0.0           0.0   \n",
       "2                    0                                      0.0           0.0   \n",
       "3                    0                                      0.0           0.0   \n",
       "4                    0                                      0.0           0.0   \n",
       "\n",
       "  Wdft_RegionIdentifier HasDetections  \n",
       "0                  10.0             0  \n",
       "1                   8.0             0  \n",
       "2                   3.0             0  \n",
       "3                   3.0             1  \n",
       "4                   1.0             1  \n",
       "\n",
       "[5 rows x 83 columns]"
      ]
     },
     "execution_count": 4,
     "metadata": {},
     "output_type": "execute_result"
    }
   ],
   "source": [
    "train.head()"
   ]
  },
  {
   "cell_type": "code",
   "execution_count": 5,
   "metadata": {},
   "outputs": [
    {
     "data": {
      "text/plain": [
       "(8921483, 83)"
      ]
     },
     "execution_count": 5,
     "metadata": {},
     "output_type": "execute_result"
    }
   ],
   "source": [
    "train.shape"
   ]
  },
  {
   "cell_type": "code",
   "execution_count": 6,
   "metadata": {},
   "outputs": [],
   "source": [
    "class TreatCategoricals():\n",
    "    def __init__(self):\n",
    "        self.categorical_dict = {}\n",
    "        self.drop_categoricals = []\n",
    "\n",
    "    def __get_names(self, data, col):\n",
    "        aux = data[col].value_counts()/data.shape[0]\n",
    "        names = []\n",
    "        for i in range(len(aux)):\n",
    "            if(aux.values[i] > 0.1):\n",
    "                names.append(aux.index[i])\n",
    "        return names\n",
    "\n",
    "    def fit(self, data, cols):\n",
    "        for col in cols:\n",
    "            names = self.__get_names(data, col)\n",
    "            if(len(names) == 0):\n",
    "                self.drop_categoricals.append(col)\n",
    "            else:\n",
    "                self.categorical_dict[col] = names\n",
    "\n",
    "    def transform(self, data, cols):\n",
    "        cols = [col for col in cols if col not in self.drop_categoricals]\n",
    "        first = True\n",
    "        for col in cols:\n",
    "            if(first):\n",
    "                all_values = data[col].apply(lambda x: x if x in self.categorical_dict[col] else 'outros').values.reshape(-1,1)\n",
    "                first = False\n",
    "            else:\n",
    "                aux = data[col].apply(lambda x: x if x in self.categorical_dict[col] else 'outros').values.reshape(-1,1)\n",
    "                all_values = np.concatenate([all_values, aux], axis=1)\n",
    "\n",
    "        return pd.DataFrame(all_values, columns=cols)       \n",
    "    \n",
    "    def fit_transform(self, data, cols):\n",
    "        self.fit(data, cols)\n",
    "        return self.transform(data, cols)\n"
   ]
  },
  {
   "cell_type": "code",
   "execution_count": 66,
   "metadata": {},
   "outputs": [],
   "source": [
    "from sklearn.preprocessing import LabelEncoder, OneHotEncoder\n",
    "\n",
    "\n",
    "class GetDummies():\n",
    "    def __init__(self):\n",
    "        self.transformation_dict = {}\n",
    "        \n",
    "    def fit(self, data, cols):\n",
    "        for col in cols:\n",
    "            lb = LabelEncoder().fit(data[col].values)\n",
    "            ec = OneHotEncoder(sparse=False, categories='auto').fit(lb.transform(data[col].values).reshape(-1,1))\n",
    "            self.transformation_dict[col] = [lb, ec]\n",
    "    def transform(self, data, cols):\n",
    "        first = True\n",
    "        for col in cols:\n",
    "            if(first):\n",
    "                dummies = self.transformation_dict[col][1].transform(self.transformation_dict[col][0].transform(data[col].values).reshape(-1,1))\n",
    "                first = False\n",
    "            else:\n",
    "                aux = self.transformation_dict[col][1].transform(self.transformation_dict[col][0].transform(data[col].values).reshape(-1,1))\n",
    "                dummies = np.concatenate([dummies, aux], axis=1)\n",
    "        return dummies\n",
    "    def fit_transform(self, data, cols):\n",
    "        self.fit(data, cols)\n",
    "        return self.transform(data, cols)\n",
    "    def dummies_names(self, data, cols):\n",
    "        all_names = []\n",
    "        for col in cols:\n",
    "            names = np.array(train[col].value_counts().index)\n",
    "            names = names[self.transformation_dict[col][0].transform(names)]\n",
    "            names = list(map(lambda x: '%s_%s' % (col, x), names))\n",
    "            all_names += names\n",
    "        return all_names"
   ]
  },
  {
   "cell_type": "code",
   "execution_count": 67,
   "metadata": {},
   "outputs": [],
   "source": [
    "cols = ['ProductName', 'EngineVersion', 'AppVersion']"
   ]
  },
  {
   "cell_type": "code",
   "execution_count": 68,
   "metadata": {},
   "outputs": [],
   "source": [
    "tc = TreatCategoricals()\n",
    "tc.fit(train, cols)\n",
    "cols = [col for col in cols if col not in tc.drop_categoricals]\n",
    "train[cols] = tc.transform(train, cols)\n",
    "gd = GetDummies()\n",
    "dummies = gd.fit_transform(train, cols)"
   ]
  },
  {
   "cell_type": "code",
   "execution_count": 69,
   "metadata": {},
   "outputs": [],
   "source": [
    "dummies_names = gd.dummies_names(train, cols)"
   ]
  },
  {
   "cell_type": "code",
   "execution_count": 202,
   "metadata": {},
   "outputs": [
    {
     "data": {
      "text/plain": [
       "['ProductName_outros',\n",
       " 'ProductName_win8defender',\n",
       " 'EngineVersion_1.1.15100.1',\n",
       " 'EngineVersion_1.1.15200.1',\n",
       " 'EngineVersion_outros',\n",
       " 'AppVersion_4.18.1807.18075',\n",
       " 'AppVersion_outros']"
      ]
     },
     "execution_count": 202,
     "metadata": {},
     "output_type": "execute_result"
    }
   ],
   "source": [
    "dummies_names"
   ]
  },
  {
   "cell_type": "code",
   "execution_count": 15,
   "metadata": {},
   "outputs": [],
   "source": [
    "import xgboost as xgb"
   ]
  },
  {
   "cell_type": "code",
   "execution_count": 206,
   "metadata": {},
   "outputs": [],
   "source": [
    "random_feat = np.random.rand(dummies.shape[0], 3)\n",
    "dummies_names += ['random' for i in range(3)]\n",
    "dummies = np.concatenate([dummies, random_feat], axis=1)"
   ]
  },
  {
   "cell_type": "code",
   "execution_count": 207,
   "metadata": {},
   "outputs": [],
   "source": [
    "from sklearn.ensemble import RandomForestClassifier, GradientBoostingClassifier\n",
    "gb = GradientBoostingClassifier(n_estimators=100).fit(dummies[:100000,:], train.HasDetections.values[:100000])\n",
    "rf = RandomForestClassifier(n_estimators=100, n_jobs=-1).fit(dummies[:100000,:], train.HasDetections.values[:100000])"
   ]
  },
  {
   "cell_type": "code",
   "execution_count": 208,
   "metadata": {},
   "outputs": [],
   "source": [
    "a = pd.DataFrame({'Features': dummies_names,\n",
    "                  'Importance': rf.feature_importances_}) \\\n",
    "    .sort_values('Importance').reset_index(drop=True)"
   ]
  },
  {
   "cell_type": "code",
   "execution_count": 209,
   "metadata": {},
   "outputs": [
    {
     "data": {
      "image/png": "[encoded data removed]",
      "text/plain": [
       "<Figure size 1080x360 with 1 Axes>"
      ]
     },
     "metadata": {
      "needs_background": "light"
     },
     "output_type": "display_data"
    }
   ],
   "source": [
    "fig, ax = plt.subplots(figsize=(15,5))\n",
    "plt.barh(y=0, width=max(a.Importance.values)+0.1, color='white')\n",
    "a.plot.barh(x='Features', y='Importance', ax=ax)\n",
    "for i in range(a.shape[0]):\n",
    "    plt.text(y=i-0.15, x=a.Importance.values[i]+0.005, s=('%.2f%%' % (100*a.Importance.values[i])))\n",
    "plt.legend().set_visible(False)\n",
    "plt.show()"
   ]
  },
  {
   "cell_type": "code",
   "execution_count": 210,
   "metadata": {},
   "outputs": [],
   "source": [
    "model = xgb.XGBClassifier().fit(dummies[:100000,:], train.HasDetections.values[:100000])"
   ]
  },
  {
   "cell_type": "code",
   "execution_count": 211,
   "metadata": {},
   "outputs": [
    {
     "data": {
      "text/plain": [
       "{'f4': 26,\n",
       " 'f2': 38,\n",
       " 'f7': 169,\n",
       " 'f5': 48,\n",
       " 'f9': 214,\n",
       " 'f8': 152,\n",
       " 'f0': 3,\n",
       " 'f3': 7}"
      ]
     },
     "execution_count": 211,
     "metadata": {},
     "output_type": "execute_result"
    }
   ],
   "source": [
    "model.get_booster().get_fscore()"
   ]
  },
  {
   "cell_type": "code",
   "execution_count": 212,
   "metadata": {},
   "outputs": [],
   "source": [
    "imp_vals = model.get_booster().get_fscore()\n",
    "imp = [float(imp_vals.get('f'+str(i),0.)) for i in range(len(dummies_names))]\n",
    "total = sum(imp)\n",
    "b = pd.DataFrame({'Features': dummies_names,\n",
    "                  'Importance': np.array(imp)/total}) \\\n",
    "    .sort_values('Importance').reset_index(drop=True)"
   ]
  },
  {
   "cell_type": "code",
   "execution_count": 213,
   "metadata": {},
   "outputs": [
    {
     "data": {
      "image/png": "[encoded data removed]",
      "text/plain": [
       "<Figure size 1080x360 with 1 Axes>"
      ]
     },
     "metadata": {
      "needs_background": "light"
     },
     "output_type": "display_data"
    }
   ],
   "source": [
    "fig, ax = plt.subplots(figsize=(15,5))\n",
    "plt.barh(y=0, width=max(b.Importance.values)+0.1, color='white')\n",
    "b.plot.barh(x='Features', y='Importance', ax=ax)\n",
    "for i in range(b.shape[0]):\n",
    "    plt.text(y=i-0.15, x=b.Importance.values[i]+0.005, s=('%.2f%%' % (100*b.Importance.values[i])))\n",
    "plt.legend().set_visible(False)\n",
    "plt.show()"
   ]
  },
  {
   "cell_type": "code",
   "execution_count": 175,
   "metadata": {},
   "outputs": [],
   "source": []
  },
  {
   "cell_type": "code",
   "execution_count": null,
   "metadata": {},
   "outputs": [],
   "source": []
  }
 ],
 "metadata": {
  "kernelspec": {
   "display_name": "Python 3",
   "language": "python",
   "name": "python3"
  },
  "language_info": {
   "codemirror_mode": {
    "name": "ipython",
    "version": 3
   },
   "file_extension": ".py",
   "mimetype": "text/x-python",
   "name": "python",
   "nbconvert_exporter": "python",
   "pygments_lexer": "ipython3",
   "version": "3.7.1"
  }
 },
 "nbformat": 4,
 "nbformat_minor": 2
}
